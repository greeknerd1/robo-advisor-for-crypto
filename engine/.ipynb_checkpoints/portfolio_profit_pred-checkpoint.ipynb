{
 "cells": [
  {
   "cell_type": "code",
   "execution_count": 23,
   "id": "0d1fee80",
   "metadata": {},
   "outputs": [
    {
     "name": "stdout",
     "output_type": "stream",
     "text": [
      "Requirement already satisfied: seaborn in /usr/local/lib/python3.9/site-packages (0.11.2)\n",
      "Requirement already satisfied: scipy>=1.0 in /usr/local/lib/python3.9/site-packages (from seaborn) (1.7.1)\n",
      "Requirement already satisfied: pandas>=0.23 in /usr/local/lib/python3.9/site-packages (from seaborn) (1.2.1)\n",
      "Requirement already satisfied: numpy>=1.15 in /usr/local/lib/python3.9/site-packages (from seaborn) (1.19.5)\n",
      "Requirement already satisfied: matplotlib>=2.2 in /usr/local/lib/python3.9/site-packages (from seaborn) (3.4.3)\n",
      "Requirement already satisfied: kiwisolver>=1.0.1 in /usr/local/lib/python3.9/site-packages (from matplotlib>=2.2->seaborn) (1.3.2)\n",
      "Requirement already satisfied: python-dateutil>=2.7 in /usr/local/lib/python3.9/site-packages (from matplotlib>=2.2->seaborn) (2.8.1)\n",
      "Requirement already satisfied: pillow>=6.2.0 in /usr/local/lib/python3.9/site-packages (from matplotlib>=2.2->seaborn) (8.3.2)\n",
      "Requirement already satisfied: pyparsing>=2.2.1 in /usr/local/lib/python3.9/site-packages (from matplotlib>=2.2->seaborn) (2.4.7)\n",
      "Requirement already satisfied: cycler>=0.10 in /usr/local/lib/python3.9/site-packages (from matplotlib>=2.2->seaborn) (0.10.0)\n",
      "Requirement already satisfied: six in /usr/local/lib/python3.9/site-packages (from cycler>=0.10->matplotlib>=2.2->seaborn) (1.15.0)\n",
      "Requirement already satisfied: pytz>=2017.3 in /usr/local/lib/python3.9/site-packages (from pandas>=0.23->seaborn) (2020.5)\n",
      "\u001b[33mWARNING: You are using pip version 20.3.3; however, version 21.3.1 is available.\n",
      "You should consider upgrading via the '/usr/local/opt/python@3.9/bin/python3.9 -m pip install --upgrade pip' command.\u001b[0m\n"
     ]
    }
   ],
   "source": [
    "import pandas as pd\n",
    "import numpy as np\n",
    "from datetime import date\n",
    "from sklearn.model_selection import train_test_split\n",
    "from sklearn.linear_model import LinearRegression\n",
    "from sklearn.metrics import mean_squared_error\n",
    "import matplotlib.pyplot as plt\n",
    "!pip3 install seaborn\n",
    "import seaborn as sns\n",
    "import random"
   ]
  },
  {
   "cell_type": "code",
   "execution_count": 3,
   "id": "de3c8e48",
   "metadata": {},
   "outputs": [],
   "source": [
    "df = pd.read_csv(\"crypto-markets.csv\")"
   ]
  },
  {
   "cell_type": "code",
   "execution_count": 4,
   "id": "bcdfdd73",
   "metadata": {},
   "outputs": [
    {
     "name": "stdout",
     "output_type": "stream",
     "text": [
      "      slug symbol     name        date  ranknow    open    high     low  \\\n",
      "0  bitcoin    BTC  Bitcoin  2013-04-28        1  135.30  135.98  132.10   \n",
      "1  bitcoin    BTC  Bitcoin  2013-04-29        1  134.44  147.49  134.00   \n",
      "2  bitcoin    BTC  Bitcoin  2013-04-30        1  144.00  146.93  134.05   \n",
      "3  bitcoin    BTC  Bitcoin  2013-05-01        1  139.00  139.89  107.72   \n",
      "4  bitcoin    BTC  Bitcoin  2013-05-02        1  116.38  125.60   92.28   \n",
      "\n",
      "    close  volume        market  close_ratio  spread  \n",
      "0  134.21     0.0  1.488567e+09       0.5438    3.88  \n",
      "1  144.54     0.0  1.603769e+09       0.7813   13.49  \n",
      "2  139.00     0.0  1.542813e+09       0.3843   12.88  \n",
      "3  116.99     0.0  1.298955e+09       0.2882   32.17  \n",
      "4  105.21     0.0  1.168517e+09       0.3881   33.32  \n",
      "     slug symbol name        date  ranknow      open      high       low  \\\n",
      "0  ripple    XRP  XRP  2013-08-04        2  0.005874  0.005927  0.005874   \n",
      "1  ripple    XRP  XRP  2013-08-05        2  0.005875  0.005980  0.005613   \n",
      "2  ripple    XRP  XRP  2013-08-06        2  0.005637  0.005661  0.004629   \n",
      "3  ripple    XRP  XRP  2013-08-07        2  0.004669  0.004682  0.004333   \n",
      "4  ripple    XRP  XRP  2013-08-08        2  0.004397  0.004424  0.004175   \n",
      "\n",
      "      close  volume      market  close_ratio  spread  \n",
      "0  0.005882     0.0  45983577.0       0.1509     0.0  \n",
      "1  0.005613     0.0  43879157.0       0.0000     0.0  \n",
      "2  0.004680     0.0  36591008.0       0.0494     0.0  \n",
      "3  0.004417     0.0  34534121.0       0.2407     0.0  \n",
      "4  0.004254     0.0  33258632.0       0.3173     0.0  \n"
     ]
    }
   ],
   "source": [
    "currencies_of_interest = [\"BTC\", \"XRP\"]\n",
    "starting_balances_list = [5, 20]\n",
    "crypto_usd_fx_list = [65000, 1.1]\n",
    "\n",
    "curr_dic = {}\n",
    "for currency in currencies_of_interest:\n",
    "    curr_dic[currency] = df.loc[df[\"symbol\"]==currency,:].copy()\n",
    "    curr_dic[currency].reset_index(inplace=True, drop=True)\n",
    "    print(curr_dic[currency].head())"
   ]
  },
  {
   "cell_type": "code",
   "execution_count": 5,
   "id": "0ec3405c",
   "metadata": {},
   "outputs": [
    {
     "name": "stdout",
     "output_type": "stream",
     "text": [
      "  date    open  Prev High  Prev Low   Close  Prev Marketcap\n",
      "1    0  134.44     135.98    132.10  144.54    1.488567e+09\n",
      "2    1  144.00     147.49    134.00  139.00    1.603769e+09\n",
      "3    2  139.00     146.93    134.05  116.99    1.542813e+09\n",
      "4    3  116.38     139.89    107.72  105.21    1.298955e+09\n",
      "5    4  106.25     125.60     92.28   97.75    1.168517e+09\n",
      "  date      open  Prev High  Prev Low     Close  Prev Marketcap\n",
      "1    0  0.005875   0.005927  0.005874  0.005613      45983577.0\n",
      "2    1  0.005637   0.005980  0.005613  0.004680      43879157.0\n",
      "3    2  0.004669   0.005661  0.004629  0.004417      36591008.0\n",
      "4    3  0.004397   0.004682  0.004333  0.004254      34534121.0\n",
      "5    4  0.004257   0.004424  0.004175  0.004291      33258632.0\n"
     ]
    }
   ],
   "source": [
    "for currency in currencies_of_interest:\n",
    "    # Restructure data so that date, open, past market cap(s), past high/low(s) are used to predict close price\n",
    "    no_rows = curr_dic[currency].shape[0]\n",
    "    for row in range(no_rows - 1):\n",
    "        curr_dic[currency].iloc[no_rows - 1 - row, 6] = curr_dic[currency].iloc[no_rows - 1 - row - 1, 6]\n",
    "        curr_dic[currency].iloc[no_rows - 1 - row, 7] = curr_dic[currency].iloc[no_rows - 1 - row - 1, 7]\n",
    "        curr_dic[currency].iloc[no_rows - 1 - row, 10] = curr_dic[currency].iloc[no_rows - 1 - row - 1, 10]\n",
    "    curr_dic[currency].drop(0, axis=0, inplace=True)\n",
    "    curr_dic[currency].drop(columns=[\"slug\", \"symbol\", \"name\", \"ranknow\", \"close_ratio\", \"spread\", \"volume\"], inplace=True)\n",
    "    curr_dic[currency].rename(columns={\"high\": \"Prev High\", \"low\": \"Prev Low\", \"market\": \"Prev Marketcap\", \"close\": \"Close\"}, inplace=True)\n",
    "\n",
    "    # Change date column into an integer for number of days since start date\n",
    "    date_null = date.fromisoformat(curr_dic[currency].iloc[0, 0])\n",
    "    for row in range(no_rows - 1):\n",
    "        date = date.fromisoformat(curr_dic[currency].iloc[row, 0])\n",
    "        curr_dic[currency].iloc[row, 0] = (date - date_null).days\n",
    "        \n",
    "    print(curr_dic[currency].head())"
   ]
  },
  {
   "cell_type": "code",
   "execution_count": 6,
   "id": "cbab476d",
   "metadata": {},
   "outputs": [],
   "source": [
    "# Split into training and test sets\n",
    "set_dic = {}\n",
    "for currency in currencies_of_interest:\n",
    "    set_dic[\"train_\"+currency], set_dic[\"val_\"+currency] = train_test_split(\n",
    "        curr_dic[currency][[\"date\", \"Prev High\", \"Prev Low\", \"open\", \"Prev Marketcap\", \"Close\"]], \n",
    "        test_size=0.33, random_state=1234)\n",
    "    set_dic[\"X_train_\"+currency] = set_dic[\"train_\"+currency][[\"date\", \"Prev High\", \"Prev Low\", \"open\", \"Prev Marketcap\"]]\n",
    "    set_dic[\"X_test_\"+currency] = set_dic[\"val_\"+currency][[\"date\", \"Prev High\", \"Prev Low\", \"open\", \"Prev Marketcap\"]]\n",
    "    set_dic[\"Y_train_\"+currency] = set_dic[\"train_\"+currency][\"Close\"]\n",
    "    set_dic[\"Y_test_\"+currency] = set_dic[\"val_\"+currency][\"Close\"]"
   ]
  },
  {
   "cell_type": "code",
   "execution_count": 7,
   "id": "1316fd07",
   "metadata": {},
   "outputs": [
    {
     "name": "stdout",
     "output_type": "stream",
     "text": [
      "RMSE BTC: 292.3605500168556\n",
      "RMSE XRP: 0.0251012486948646\n"
     ]
    }
   ],
   "source": [
    "# Basic linear regression seems to have lower RMSE which is interesting and unexpected\n",
    "# Not using accuracy as a performance measure because I am predicting a continuous variable\n",
    "model_dic = {}\n",
    "for currency in currencies_of_interest:\n",
    "    model_dic[currency] = LinearRegression()\n",
    "    model_dic[\"reg_\"+currency] = model_dic[currency].fit(set_dic[\"X_train_\"+currency], set_dic[\"Y_train_\"+currency])\n",
    "    y_pred_btc = model_dic[\"reg_\"+currency].predict(set_dic[\"X_test_\"+currency])\n",
    "    print(\"RMSE \" + currency + \": \" + str(mean_squared_error(set_dic[\"Y_test_\"+currency], y_pred_btc) ** 0.5))"
   ]
  },
  {
   "cell_type": "code",
   "execution_count": 8,
   "id": "d561e869",
   "metadata": {},
   "outputs": [],
   "source": [
    "starting_balances = {}\n",
    "crypto_usd_fx = {}\n",
    "starting_indicators = {}\n",
    "predictions = {}\n",
    "counter = 0\n",
    "\n",
    "for currency in currencies_of_interest:\n",
    "    starting_balances[currency] = starting_balances_list[counter]\n",
    "    crypto_usd_fx[currency] = crypto_usd_fx_list[counter]\n",
    "    counter += 1\n",
    "\n",
    "    starting_indicators[currency] = curr_dic[currency].iloc[0,:][[\"date\", \"Prev High\", \"Prev Low\", \"open\", \"Prev Marketcap\"]].to_frame().T\n",
    "    predictions[currency] = model_dic[\"reg_\"+currency].predict(starting_indicators[currency])\n",
    "\n",
    "revenue = sum([crypto_usd_fx[currency]*predictions[currency] for currency in currencies_of_interest])\n",
    "cost = sum([crypto_usd_fx[currency]*starting_balances[currency] for currency in currencies_of_interest])\n",
    "profit = revenue - cost\n",
    "print(\"Profit: \" + str(profit[0]))\n",
    "\n",
    "counter = 0"
   ]
  },
  {
   "cell_type": "code",
   "execution_count": 9,
   "id": "bfce0955",
   "metadata": {},
   "outputs": [],
   "source": [
    "crypto_df = pd.read_csv(\"crypto-markets.csv\")\n",
    "crypto_df.head()\n",
    "\n",
    "crypto_df = crypto_df[crypto_df['date'].str.startswith(\"2018\")]\n",
    "crypto_df = crypto_df[crypto_df['date'] != \"2018-11-30\"]\n",
    "crypto_df['daily_returns'] = (crypto_df['close'] - crypto_df['open']) / (crypto_df['open']) * 100\n",
    "crypto_df.head()\n",
    "\n",
    "bt_df = crypto_df[crypto_df['name'] == \"Bitcoin\"]\n",
    "bt_df.tail()\n",
    "\n",
    "four_two_df = crypto_df[crypto_df['name'] == \"Project-X\"]\n",
    "four_two_df.tail()\n",
    "\n",
    "\n",
    "\n",
    "names = crypto_df['name'].unique()\n",
    "names\n",
    "\n",
    "benchmark_std = np.std(bt_df['daily_returns'])\n",
    "lst = list()\n",
    "lst1 = list()\n",
    "def calculate_volatility(crypto_name):\n",
    "  b1_df = crypto_df[crypto_df['name'].str.lower() == crypto_name.lower()]\n",
    "  if (b1_df.shape[0] != 333):\n",
    "    return\n",
    "  b1_std = np.std(b1_df['daily_returns'])\n",
    "  temp = np.corrcoef(b1_df['daily_returns'], bt_df['daily_returns'])[0][1]\n",
    "  return temp * (b1_std / benchmark_std), temp\n",
    "\n",
    "for name in names:\n",
    "  temp = calculate_volatility(name)\n",
    "  if temp is not None:\n",
    "    beta, corr = temp\n",
    "    lst.append(beta)\n",
    "    lst1.append(corr)\n",
    "  else:\n",
    "    lst.append(None)\n",
    "    lst1.append(None)\n",
    "\n",
    "names = [x.lower() for x in names]\n",
    "df_betas = pd.DataFrame({\"Name\": names, \"Beta\": lst, \"Correlation\": lst1})\n",
    "df_cleaned = df_betas[df_betas['Beta'].notna()]\n",
    "df_cleaned.sort_values(\"Beta\", ascending = False)\n",
    "\n",
    "df_cleaned.to_csv(\"crypto_betas\")"
   ]
  },
  {
   "cell_type": "code",
   "execution_count": 10,
   "id": "3cb05567",
   "metadata": {},
   "outputs": [],
   "source": [
    "df_betas = pd.read_csv(\"crypto_betas\")\n",
    "df_betas.head()\n",
    "\n",
    "def calculate_risk(names, percentages):\n",
    "  betas = list()\n",
    "  if (sum([int(percentage) for percentage in percentages]) != 100):\n",
    "      return \"The Percentages Do Not Add Up To 100!\"\n",
    "  for i in range(len(names)):\n",
    "    betas.append(df_betas[df_betas['Name'] == names[i].lower()]['Beta'].iloc[0] * (int(percentages[i]) / 100))\n",
    "  risk_score = np.sum(betas)\n",
    "  return risk_score"
   ]
  },
  {
   "cell_type": "code",
   "execution_count": 39,
   "id": "8e56a150",
   "metadata": {},
   "outputs": [
    {
     "name": "stdout",
     "output_type": "stream",
     "text": [
      "{1.3: [('ubiq', 'rchain', 37, 63), ('lunyr', 'ark', 26, 74), ('feathercoin', 'spreadcoin', 3, 97), ('incakoin', 'elementrem', 45, 55)], 0.9: [('golfcoin', 'feathercoin', 35, 65), ('stellar', 'filecoin [futures]', 37, 63)], 1.2: [('stronghands', 'ark', 7, 93), ('alqo', 'storj', 72, 28), ('iconomi', 'hush', 73, 27), ('qlc chain', 'unobtanium', 85, 15), ('putincoin', 'cloakcoin', 20, 80)], 1.4: [('cappasity', 'trollcoin', 46, 54), ('nekonium', 'wavesgo', 73, 27)], 1.1: [('ethereum classic', 'etheroll', 37, 63), ('databits', 'neumark', 81, 19), ('solarcoin', 'maidsafecoin', 71, 29)], 0.6: [('xenon', 'crave', 88, 12)], 1.0: [('life', 'edgeless', 23, 77)], 0.8: [('namecoin', 'leocoin', 87, 13), ('petrodollar', 'autonio', 99, 1)]}\n"
     ]
    }
   ],
   "source": [
    "currencies = df_betas[\"Name\"].unique().tolist()\n",
    "portfolio_size = 2\n",
    "risk_portfolios = {}\n",
    "for trial in range(20):\n",
    "    curr_temp = random.sample(currencies, 2)\n",
    "    weight = random.choice([i for i in range(1, 101)])\n",
    "    risk_lvl = calculate_risk([curr_temp[0], curr_temp[1]], [weight, 100-weight])\n",
    "    if round(risk_lvl, 1) not in risk_portfolios:\n",
    "        risk_portfolios[round(risk_lvl, 1)] = [(curr_temp[0], curr_temp[1], weight, 100-weight)]\n",
    "    else: \n",
    "        risk_portfolios[round(risk_lvl, 1)].append((curr_temp[0], curr_temp[1], weight, 100-weight))\n",
    "print(risk_portfolios)"
   ]
  },
  {
   "cell_type": "code",
   "execution_count": 29,
   "id": "d6931ac1",
   "metadata": {},
   "outputs": [],
   "source": [
    "def profit_predictor(currencies_of_interest, starting_balances_list, crypto_usd_fx_list):\n",
    "    \n",
    "    from datetime import date\n",
    "    curr_dic = {}\n",
    "    for currency in currencies_of_interest:\n",
    "        curr_dic[currency] = df.loc[df[\"name\"].str.lower()==currency,:].copy()\n",
    "        curr_dic[currency].reset_index(inplace=True, drop=True)\n",
    "        #print(curr_dic[currency].head())\n",
    "\n",
    "    for currency in currencies_of_interest:\n",
    "        # Restructure data so that date, open, past market cap(s), past high/low(s) are used to predict close price\n",
    "        no_rows = curr_dic[currency].shape[0]\n",
    "        for row in range(no_rows - 1):\n",
    "            curr_dic[currency].iloc[no_rows - 1 - row, 6] = curr_dic[currency].iloc[no_rows - 1 - row - 1, 6]\n",
    "            curr_dic[currency].iloc[no_rows - 1 - row, 7] = curr_dic[currency].iloc[no_rows - 1 - row - 1, 7]\n",
    "            curr_dic[currency].iloc[no_rows - 1 - row, 10] = curr_dic[currency].iloc[no_rows - 1 - row - 1, 10]\n",
    "        curr_dic[currency].drop(0, axis=0, inplace=True)\n",
    "        curr_dic[currency].drop(columns=[\"slug\", \"symbol\", \"name\", \"ranknow\", \"close_ratio\", \"spread\", \"volume\"], inplace=True)\n",
    "        curr_dic[currency].rename(columns={\"high\": \"Prev High\", \"low\": \"Prev Low\", \"market\": \"Prev Marketcap\", \"close\": \"Close\"}, inplace=True)\n",
    "\n",
    "        # Change date column into an integer for number of days since start date\n",
    "        date_null = date.fromisoformat(curr_dic[currency].iloc[0, 0])\n",
    "        for row in range(no_rows - 1):\n",
    "            date = date.fromisoformat(curr_dic[currency].iloc[row, 0])\n",
    "            curr_dic[currency].iloc[row, 0] = (date - date_null).days\n",
    "\n",
    "        #print(curr_dic[currency].head())\n",
    "        \n",
    "    # Split into training and test sets\n",
    "    set_dic = {}\n",
    "    for currency in currencies_of_interest:\n",
    "        set_dic[\"train_\"+currency], set_dic[\"val_\"+currency] = train_test_split(\n",
    "            curr_dic[currency][[\"date\", \"Prev High\", \"Prev Low\", \"open\", \"Prev Marketcap\", \"Close\"]], \n",
    "            test_size=0.33, random_state=1234)\n",
    "        set_dic[\"X_train_\"+currency] = set_dic[\"train_\"+currency][[\"date\", \"Prev High\", \"Prev Low\", \"open\", \"Prev Marketcap\"]]\n",
    "        set_dic[\"X_test_\"+currency] = set_dic[\"val_\"+currency][[\"date\", \"Prev High\", \"Prev Low\", \"open\", \"Prev Marketcap\"]]\n",
    "        set_dic[\"Y_train_\"+currency] = set_dic[\"train_\"+currency][\"Close\"]\n",
    "        set_dic[\"Y_test_\"+currency] = set_dic[\"val_\"+currency][\"Close\"]\n",
    "\n",
    "    # Basic linear regression seems to have lower RMSE which is interesting and unexpected\n",
    "    # Not using accuracy as a performance measure because I am predicting a continuous variable\n",
    "    model_dic = {}\n",
    "    for currency in currencies_of_interest:\n",
    "        model_dic[currency] = LinearRegression()\n",
    "        model_dic[\"reg_\"+currency] = model_dic[currency].fit(set_dic[\"X_train_\"+currency], set_dic[\"Y_train_\"+currency])\n",
    "        y_pred_btc = model_dic[\"reg_\"+currency].predict(set_dic[\"X_test_\"+currency])\n",
    "        #print(\"RMSE \" + currency + \": \" + str(mean_squared_error(set_dic[\"Y_test_\"+currency], y_pred_btc) ** 0.5))\n",
    "\n",
    "    starting_balances = {}\n",
    "    crypto_usd_fx = {}\n",
    "    starting_indicators = {}\n",
    "    predictions = {}\n",
    "    counter = 0\n",
    "\n",
    "    for currency in currencies_of_interest:\n",
    "        starting_balances[currency] = starting_balances_list[counter]\n",
    "        crypto_usd_fx[currency] = crypto_usd_fx_list[counter]\n",
    "        counter += 1\n",
    "\n",
    "        starting_indicators[currency] = curr_dic[currency].iloc[0,:][[\"date\", \"Prev High\", \"Prev Low\", \"open\", \"Prev Marketcap\"]].to_frame().T\n",
    "        predictions[currency] = model_dic[\"reg_\"+currency].predict(starting_indicators[currency])\n",
    "\n",
    "    revenue = sum([crypto_usd_fx[currency]*predictions[currency] for currency in currencies_of_interest])\n",
    "    cost = sum([crypto_usd_fx[currency]*starting_balances[currency] for currency in currencies_of_interest])\n",
    "    profit = revenue - cost\n",
    "    #print(\"Profit: \" + str(profit[0]))\n",
    "\n",
    "    counter = 0\n",
    "    \n",
    "    return profit"
   ]
  },
  {
   "cell_type": "code",
   "execution_count": 45,
   "id": "a65733d6",
   "metadata": {},
   "outputs": [
    {
     "name": "stdout",
     "output_type": "stream",
     "text": [
      "             asset_a             asset_b weight_a weight_b  risk  profit_pred\n",
      "0               ubiq              rchain       37       63   1.3   -99.760569\n",
      "1              lunyr                 ark       26       74   1.3   -96.961219\n",
      "2           golfcoin         feathercoin       35       65   0.9   -99.552496\n",
      "3            stellar  filecoin [futures]       37       63   0.9   -87.895059\n",
      "4        stronghands                 ark        7       93   1.2   -99.941410\n",
      "5               alqo               storj       72       28   1.2   -99.297954\n",
      "6          qlc chain          unobtanium       85       15   1.2   -93.931667\n",
      "7          cappasity           trollcoin       46       54   1.4   -99.959303\n",
      "8           nekonium             wavesgo       73       27   1.4   -99.667413\n",
      "9   ethereum classic            etheroll       37       63   1.1   -97.600783\n",
      "10             xenon               crave       88       12   0.6   -99.909427\n",
      "11              life            edgeless       23       77   1.0   -99.961156\n",
      "12          namecoin             leocoin       87       13   0.8   -98.555288\n",
      "{1.3: ('lunyr', 'ark', 26, 74), 0.9: ('stellar', 'filecoin [futures]', 37, 63), 1.2: ('qlc chain', 'unobtanium', 85, 15), 1.4: ('nekonium', 'wavesgo', 73, 27), 1.1: ('ethereum classic', 'etheroll', 37, 63), 0.6: ('xenon', 'crave', 88, 12), 1.0: ('life', 'edgeless', 23, 77), 0.8: ('namecoin', 'leocoin', 87, 13)}\n"
     ]
    }
   ],
   "source": [
    "final_portfolios = {}\n",
    "data_viz_df = pd.DataFrame(columns = [\"asset_a\", \"asset_b\", \"weight_a\", \"weight_b\", \"risk\", \"profit_pred\"])\n",
    "for risk in risk_portfolios.keys():\n",
    "    portfolio_options = risk_portfolios[risk]\n",
    "    crypto_usd_fx_list = [1,1]\n",
    "    profit_est = -1000\n",
    "    for portfolio in portfolio_options:\n",
    "        initial_portfolio_worth = 100\n",
    "        profit_pred = profit_predictor([portfolio[0], portfolio[1]], [portfolio[2]*.01*initial_portfolio_worth, portfolio[3]*.01*initial_portfolio_worth], crypto_usd_fx_list)\n",
    "        if profit_pred > profit_est:\n",
    "            data_viz_df = data_viz_df.append({\"asset_a\":portfolio[0], \"asset_b\":portfolio[1], \"weight_a\":portfolio[2], \"weight_b\":portfolio[3], \"risk\":risk, \"profit_pred\":profit_pred[0]}, ignore_index=True)\n",
    "            final_portfolios[risk] = portfolio\n",
    "            profit_est = profit_pred\n",
    "    profit_est = 0\n",
    "data_viz_df.to_csv(\"data_viz_df.csv\", index=False)\n",
    "print(data_viz_df)\n",
    "print(final_portfolios)"
   ]
  },
  {
   "cell_type": "code",
   "execution_count": null,
   "id": "0e925bb2",
   "metadata": {},
   "outputs": [],
   "source": []
  }
 ],
 "metadata": {
  "kernelspec": {
   "display_name": "Python 3 (ipykernel)",
   "language": "python",
   "name": "python3"
  },
  "language_info": {
   "codemirror_mode": {
    "name": "ipython",
    "version": 3
   },
   "file_extension": ".py",
   "mimetype": "text/x-python",
   "name": "python",
   "nbconvert_exporter": "python",
   "pygments_lexer": "ipython3",
   "version": "3.8.5"
  }
 },
 "nbformat": 4,
 "nbformat_minor": 5
}
